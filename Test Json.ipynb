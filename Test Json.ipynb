{
 "cells": [
  {
   "cell_type": "code",
   "execution_count": 1,
   "metadata": {},
   "outputs": [],
   "source": [
    "import random\n",
    "import numpy as np\n",
    "import torch\n",
    "from torch.utils.data import Dataset, DataLoader, RandomSampler\n",
    "import json\n",
    "import tqdm\n",
    "\n",
    "from torchfly.transformers import UnifiedTokenizer\n",
    "from dialog_utils import DialogFragmentSampler"
   ]
  },
  {
   "cell_type": "code",
   "execution_count": 2,
   "metadata": {},
   "outputs": [],
   "source": [
    "def process_dialog(dialog):\n",
    "    new_dialog = []\n",
    "    for turn in dialog:\n",
    "        token_ids = tokenizer.encode(turn[0] + \":\" + turn[1] + \"\\n\\n\\n\")\n",
    "        new_dialog.append(token_ids)\n",
    "        \n",
    "    return new_dialog"
   ]
  },
  {
   "cell_type": "code",
   "execution_count": 3,
   "metadata": {},
   "outputs": [],
   "source": [
    "tokenizer = UnifiedTokenizer()\n",
    "\n",
    "with open(\"../DialogCorpus/all_dialogs.json\") as f:\n",
    "    all_dialogs = json.load(f)"
   ]
  },
  {
   "cell_type": "code",
   "execution_count": 4,
   "metadata": {
    "scrolled": true
   },
   "outputs": [
    {
     "name": "stderr",
     "output_type": "stream",
     "text": [
      "100%|██████████| 146255/146255 [03:00<00:00, 812.53it/s]\n"
     ]
    }
   ],
   "source": [
    "new_all_dialogs = {}\n",
    "\n",
    "for key, value in tqdm.tqdm(all_dialogs.items()):\n",
    "    processed_dialog = process_dialog(value)\n",
    "    lengths = [len(item) for item in processed_dialog]\n",
    "    if max(lengths) > 256:\n",
    "        continue\n",
    "\n",
    "    new_all_dialogs[key] = {}\n",
    "    new_all_dialogs[key][\"text\"] = value\n",
    "    new_all_dialogs[key][\"token_ids\"] = processed_dialog"
   ]
  },
  {
   "cell_type": "code",
   "execution_count": 6,
   "metadata": {},
   "outputs": [],
   "source": [
    "# save the file\n",
    "with open(\"dialog_corpus.json\", \"w\") as f:\n",
    "    json.dump(new_all_dialogs, f)"
   ]
  },
  {
   "cell_type": "code",
   "execution_count": 7,
   "metadata": {},
   "outputs": [],
   "source": [
    "with open(\"dialog_corpus.json\", \"r\") as f:\n",
    "    new_all_dialogs = json.load(f)"
   ]
  },
  {
   "cell_type": "code",
   "execution_count": 8,
   "metadata": {},
   "outputs": [],
   "source": [
    "class DialogFragmentSampler:\n",
    "    def __init__(self, max_tokens=1024, max_turns=20):\n",
    "        \"\"\"Sample dialog fragments from a dialog\n",
    "        \"\"\"\n",
    "        self.max_num_tokens = max_tokens - 1\n",
    "        self.max_num_turns = max_turns\n",
    "\n",
    "    def __call__(self, dialog):\n",
    "        \"\"\"dialog is a dict which has key \"token_ids\"\n",
    "        \"\"\"\n",
    "        dialog_fragment = {}\n",
    "\n",
    "        lengths = np.array([len(item) for item in dialog['token_ids']])\n",
    "\n",
    "        # if the entire dialog is smaller than the max len\n",
    "        if lengths.sum() <= self.max_num_tokens:\n",
    "            return dialog\n",
    "\n",
    "        cumsum_len = lengths.cumsum()\n",
    "        reverse_cumsum_len = cumsum_len[::-1]\n",
    "\n",
    "        # based on the reverse cumsum, we can have a range to select from\n",
    "        start_turns = np.arange(len(reverse_cumsum_len)\n",
    "                               )[reverse_cumsum_len > self.max_num_tokens]\n",
    "        # remove odd numbers\n",
    "        start_turns = [idx for idx in start_turns if idx % 2 == 0]\n",
    "        # randomly choose one\n",
    "        try:\n",
    "            random_start_turn = random.choice(start_turns)\n",
    "        except:\n",
    "            breakpoint()\n",
    "        cumsum_len = np.concatenate([[0], cumsum_len], axis=0)\n",
    "        new_cumsum_len = cumsum_len - cumsum_len[random_start_turn]\n",
    "\n",
    "        # find the maximum end turn (only odd turn)\n",
    "        for i in reversed(range(len(new_cumsum_len))):\n",
    "            if i % 2 == 1 and new_cumsum_len[i] < self.max_num_tokens:\n",
    "                random_end_turn = i\n",
    "                break\n",
    "\n",
    "        random_end_turn = min(\n",
    "            random_end_turn, random_start_turn + self.max_num_turns - 1\n",
    "        )\n",
    "\n",
    "        dialog_fragment[\"token_ids\"] = dialog['token_ids'][random_start_turn:\n",
    "                                                           random_end_turn]\n",
    "\n",
    "        if sum(\n",
    "            [len(item) for item in dialog_fragment[\"token_ids\"]]\n",
    "        ) == 0:\n",
    "            breakpoint()\n",
    "        \n",
    "        \n",
    "        \n",
    "        return dialog_fragment"
   ]
  },
  {
   "cell_type": "code",
   "execution_count": 9,
   "metadata": {},
   "outputs": [],
   "source": [
    "class DialogCorpusDataset(Dataset):\n",
    "    def __init__(self, data, tokenizer):\n",
    "        # only interested in the values\n",
    "        self.data = list(data.values())\n",
    "        self.tokenizer = tokenizer\n",
    "        self.tokenizer.max_len = 4096\n",
    "        self.turn_ending = tokenizer.encode(\"\\n\\n\\n\")\n",
    "        self.sampler = DialogFragmentSampler(max_tokens=800)\n",
    "\n",
    "    def __len__(self):\n",
    "        return len(self.data)\n",
    "\n",
    "    def __getitem__(self, index):\n",
    "        # get data\n",
    "        sample = self.data[index]\n",
    "        dialog = sample\n",
    "        dialog_fragment = self.sampler(dialog)\n",
    "        return dialog_fragment[\"token_ids\"]\n",
    "\n",
    "    def collate(self, batch):\n",
    "        # only one item in the batch\n",
    "        batch = batch[0]\n",
    "        total_len = sum([len(item) for item in batch])\n",
    "        # make random positions\n",
    "        start_position = random.randint(0, 1024 - total_len)\n",
    "        \n",
    "        position_ids = []\n",
    "        for item in batch:\n",
    "            pos = torch.arange(start_position, start_position + len(item)).unsqueeze(0)\n",
    "            position_ids.append(pos)\n",
    "            start_position = start_position + len(item)\n",
    "        \n",
    "        batch = [torch.LongTensor([item]) for item in batch]\n",
    "        \n",
    "        return batch"
   ]
  },
  {
   "cell_type": "code",
   "execution_count": 10,
   "metadata": {},
   "outputs": [],
   "source": [
    "train_data = new_all_dialogs"
   ]
  },
  {
   "cell_type": "code",
   "execution_count": 11,
   "metadata": {},
   "outputs": [],
   "source": [
    "tokenizer = UnifiedTokenizer()\n",
    "\n",
    "train_dataset = DialogCorpusDataset(train_data, tokenizer)\n",
    "train_sampler = RandomSampler(train_dataset)\n",
    "\n",
    "train_dataloader = DataLoader(\n",
    "    dataset=train_dataset,\n",
    "    sampler=train_sampler,\n",
    "    batch_size=1,\n",
    "    collate_fn=train_dataset.collate\n",
    ")"
   ]
  },
  {
   "cell_type": "code",
   "execution_count": 28,
   "metadata": {},
   "outputs": [
    {
     "name": "stderr",
     "output_type": "stream",
     "text": [
      "\n",
      "  0%|          | 0/142298 [00:00<?, ?it/s]\u001b[A\n",
      "  0%|          | 481/142298 [00:00<00:29, 4805.95it/s]\u001b[A\n",
      "  1%|          | 1059/142298 [00:00<00:27, 5060.24it/s]\u001b[A\n",
      "  1%|          | 1684/142298 [00:00<00:26, 5364.64it/s]\u001b[A\n",
      "  2%|▏         | 2278/142298 [00:00<00:25, 5524.35it/s]\u001b[A\n",
      "  2%|▏         | 2853/142298 [00:00<00:24, 5589.67it/s]\u001b[A\n",
      "  2%|▏         | 3454/142298 [00:00<00:24, 5709.29it/s]\u001b[A\n",
      "  3%|▎         | 4056/142298 [00:00<00:23, 5792.79it/s]\u001b[A\n",
      "  3%|▎         | 4658/142298 [00:00<00:23, 5856.43it/s]\u001b[A\n",
      "  4%|▎         | 5252/142298 [00:00<00:23, 5879.27it/s]\u001b[A\n",
      "  4%|▍         | 5859/142298 [00:01<00:23, 5931.43it/s]\u001b[A\n",
      "  5%|▍         | 6471/142298 [00:01<00:22, 5986.61it/s]\u001b[A\n",
      "  5%|▍         | 7064/142298 [00:01<00:22, 5968.72it/s]\u001b[A\n",
      "  5%|▌         | 7658/142298 [00:01<00:22, 5959.28it/s]\u001b[A\n",
      "  6%|▌         | 8250/142298 [00:01<00:22, 5905.89it/s]\u001b[A\n",
      "  6%|▌         | 8838/142298 [00:01<00:22, 5819.15it/s]\u001b[A\n",
      "  7%|▋         | 9435/142298 [00:01<00:22, 5861.25it/s]\u001b[A\n",
      "  7%|▋         | 10021/142298 [00:01<00:22, 5818.29it/s]\u001b[A\n",
      "  7%|▋         | 10609/142298 [00:01<00:22, 5834.98it/s]\u001b[A\n",
      "  8%|▊         | 11193/142298 [00:01<00:22, 5788.06it/s]\u001b[A\n",
      "  8%|▊         | 11779/142298 [00:02<00:22, 5802.98it/s]\u001b[A\n",
      "  9%|▊         | 12371/142298 [00:02<00:22, 5836.57it/s]\u001b[A\n",
      "  9%|▉         | 12955/142298 [00:02<00:22, 5796.80it/s]\u001b[A\n",
      " 10%|▉         | 13542/142298 [00:02<00:22, 5814.92it/s]\u001b[A\n",
      " 10%|▉         | 14147/142298 [00:02<00:21, 5880.80it/s]\u001b[A\n",
      " 10%|█         | 14752/142298 [00:02<00:21, 5930.04it/s]\u001b[A\n",
      " 11%|█         | 15346/142298 [00:02<00:21, 5914.93it/s]\u001b[A"
     ]
    },
    {
     "ename": "KeyboardInterrupt",
     "evalue": "",
     "output_type": "error",
     "traceback": [
      "\u001b[0;31m---------------------------------------------------------------------------\u001b[0m",
      "\u001b[0;31mKeyboardInterrupt\u001b[0m                         Traceback (most recent call last)",
      "\u001b[0;32m<ipython-input-28-b416437c1f53>\u001b[0m in \u001b[0;36m<module>\u001b[0;34m\u001b[0m\n\u001b[1;32m      1\u001b[0m \u001b[0mlengths\u001b[0m \u001b[0;34m=\u001b[0m \u001b[0;34m[\u001b[0m\u001b[0;34m]\u001b[0m\u001b[0;34m\u001b[0m\u001b[0;34m\u001b[0m\u001b[0m\n\u001b[0;32m----> 2\u001b[0;31m \u001b[0;32mfor\u001b[0m \u001b[0mbatch\u001b[0m \u001b[0;32min\u001b[0m \u001b[0mtqdm\u001b[0m\u001b[0;34m.\u001b[0m\u001b[0mtqdm\u001b[0m\u001b[0;34m(\u001b[0m\u001b[0mtrain_dataloader\u001b[0m\u001b[0;34m)\u001b[0m\u001b[0;34m:\u001b[0m\u001b[0;34m\u001b[0m\u001b[0;34m\u001b[0m\u001b[0m\n\u001b[0m\u001b[1;32m      3\u001b[0m     \u001b[0mmax_len\u001b[0m \u001b[0;34m=\u001b[0m \u001b[0msum\u001b[0m\u001b[0;34m(\u001b[0m\u001b[0;34m[\u001b[0m\u001b[0mitem\u001b[0m\u001b[0;34m.\u001b[0m\u001b[0mshape\u001b[0m\u001b[0;34m[\u001b[0m\u001b[0;36m1\u001b[0m\u001b[0;34m]\u001b[0m \u001b[0;32mfor\u001b[0m \u001b[0mitem\u001b[0m \u001b[0;32min\u001b[0m \u001b[0mbatch\u001b[0m\u001b[0;34m]\u001b[0m\u001b[0;34m)\u001b[0m\u001b[0;34m\u001b[0m\u001b[0;34m\u001b[0m\u001b[0m\n\u001b[1;32m      4\u001b[0m \u001b[0;34m\u001b[0m\u001b[0m\n\u001b[1;32m      5\u001b[0m     \u001b[0;32mif\u001b[0m \u001b[0mmax_len\u001b[0m \u001b[0;34m==\u001b[0m \u001b[0;36m15\u001b[0m\u001b[0;34m:\u001b[0m\u001b[0;34m\u001b[0m\u001b[0;34m\u001b[0m\u001b[0m\n",
      "\u001b[0;32m~/anaconda3/lib/python3.7/site-packages/tqdm/_tqdm.py\u001b[0m in \u001b[0;36m__iter__\u001b[0;34m(self)\u001b[0m\n\u001b[1;32m   1003\u001b[0m                 \"\"\"), fp_write=getattr(self.fp, 'write', sys.stderr.write))\n\u001b[1;32m   1004\u001b[0m \u001b[0;34m\u001b[0m\u001b[0m\n\u001b[0;32m-> 1005\u001b[0;31m             \u001b[0;32mfor\u001b[0m \u001b[0mobj\u001b[0m \u001b[0;32min\u001b[0m \u001b[0miterable\u001b[0m\u001b[0;34m:\u001b[0m\u001b[0;34m\u001b[0m\u001b[0;34m\u001b[0m\u001b[0m\n\u001b[0m\u001b[1;32m   1006\u001b[0m                 \u001b[0;32myield\u001b[0m \u001b[0mobj\u001b[0m\u001b[0;34m\u001b[0m\u001b[0;34m\u001b[0m\u001b[0m\n\u001b[1;32m   1007\u001b[0m                 \u001b[0;31m# Update and possibly print the progressbar.\u001b[0m\u001b[0;34m\u001b[0m\u001b[0;34m\u001b[0m\u001b[0;34m\u001b[0m\u001b[0m\n",
      "\u001b[0;32m~/anaconda3/lib/python3.7/site-packages/torch/utils/data/dataloader.py\u001b[0m in \u001b[0;36m__next__\u001b[0;34m(self)\u001b[0m\n\u001b[1;32m    344\u001b[0m     \u001b[0;32mdef\u001b[0m \u001b[0m__next__\u001b[0m\u001b[0;34m(\u001b[0m\u001b[0mself\u001b[0m\u001b[0;34m)\u001b[0m\u001b[0;34m:\u001b[0m\u001b[0;34m\u001b[0m\u001b[0;34m\u001b[0m\u001b[0m\n\u001b[1;32m    345\u001b[0m         \u001b[0mindex\u001b[0m \u001b[0;34m=\u001b[0m \u001b[0mself\u001b[0m\u001b[0;34m.\u001b[0m\u001b[0m_next_index\u001b[0m\u001b[0;34m(\u001b[0m\u001b[0;34m)\u001b[0m  \u001b[0;31m# may raise StopIteration\u001b[0m\u001b[0;34m\u001b[0m\u001b[0;34m\u001b[0m\u001b[0m\n\u001b[0;32m--> 346\u001b[0;31m         \u001b[0mdata\u001b[0m \u001b[0;34m=\u001b[0m \u001b[0mself\u001b[0m\u001b[0;34m.\u001b[0m\u001b[0m_dataset_fetcher\u001b[0m\u001b[0;34m.\u001b[0m\u001b[0mfetch\u001b[0m\u001b[0;34m(\u001b[0m\u001b[0mindex\u001b[0m\u001b[0;34m)\u001b[0m  \u001b[0;31m# may raise StopIteration\u001b[0m\u001b[0;34m\u001b[0m\u001b[0;34m\u001b[0m\u001b[0m\n\u001b[0m\u001b[1;32m    347\u001b[0m         \u001b[0;32mif\u001b[0m \u001b[0mself\u001b[0m\u001b[0;34m.\u001b[0m\u001b[0m_pin_memory\u001b[0m\u001b[0;34m:\u001b[0m\u001b[0;34m\u001b[0m\u001b[0;34m\u001b[0m\u001b[0m\n\u001b[1;32m    348\u001b[0m             \u001b[0mdata\u001b[0m \u001b[0;34m=\u001b[0m \u001b[0m_utils\u001b[0m\u001b[0;34m.\u001b[0m\u001b[0mpin_memory\u001b[0m\u001b[0;34m.\u001b[0m\u001b[0mpin_memory\u001b[0m\u001b[0;34m(\u001b[0m\u001b[0mdata\u001b[0m\u001b[0;34m)\u001b[0m\u001b[0;34m\u001b[0m\u001b[0;34m\u001b[0m\u001b[0m\n",
      "\u001b[0;32m~/anaconda3/lib/python3.7/site-packages/torch/utils/data/_utils/fetch.py\u001b[0m in \u001b[0;36mfetch\u001b[0;34m(self, possibly_batched_index)\u001b[0m\n\u001b[1;32m     45\u001b[0m         \u001b[0;32melse\u001b[0m\u001b[0;34m:\u001b[0m\u001b[0;34m\u001b[0m\u001b[0;34m\u001b[0m\u001b[0m\n\u001b[1;32m     46\u001b[0m             \u001b[0mdata\u001b[0m \u001b[0;34m=\u001b[0m \u001b[0mself\u001b[0m\u001b[0;34m.\u001b[0m\u001b[0mdataset\u001b[0m\u001b[0;34m[\u001b[0m\u001b[0mpossibly_batched_index\u001b[0m\u001b[0;34m]\u001b[0m\u001b[0;34m\u001b[0m\u001b[0;34m\u001b[0m\u001b[0m\n\u001b[0;32m---> 47\u001b[0;31m         \u001b[0;32mreturn\u001b[0m \u001b[0mself\u001b[0m\u001b[0;34m.\u001b[0m\u001b[0mcollate_fn\u001b[0m\u001b[0;34m(\u001b[0m\u001b[0mdata\u001b[0m\u001b[0;34m)\u001b[0m\u001b[0;34m\u001b[0m\u001b[0;34m\u001b[0m\u001b[0m\n\u001b[0m",
      "\u001b[0;32m<ipython-input-9-9ecb8e281c5d>\u001b[0m in \u001b[0;36mcollate\u001b[0;34m(self, batch)\u001b[0m\n\u001b[1;32m     31\u001b[0m             \u001b[0mstart_position\u001b[0m \u001b[0;34m=\u001b[0m \u001b[0mstart_position\u001b[0m \u001b[0;34m+\u001b[0m \u001b[0mlen\u001b[0m\u001b[0;34m(\u001b[0m\u001b[0mitem\u001b[0m\u001b[0;34m)\u001b[0m\u001b[0;34m\u001b[0m\u001b[0;34m\u001b[0m\u001b[0m\n\u001b[1;32m     32\u001b[0m \u001b[0;34m\u001b[0m\u001b[0m\n\u001b[0;32m---> 33\u001b[0;31m         \u001b[0mbatch\u001b[0m \u001b[0;34m=\u001b[0m \u001b[0;34m[\u001b[0m\u001b[0mtorch\u001b[0m\u001b[0;34m.\u001b[0m\u001b[0mLongTensor\u001b[0m\u001b[0;34m(\u001b[0m\u001b[0;34m[\u001b[0m\u001b[0mitem\u001b[0m\u001b[0;34m]\u001b[0m\u001b[0;34m)\u001b[0m \u001b[0;32mfor\u001b[0m \u001b[0mitem\u001b[0m \u001b[0;32min\u001b[0m \u001b[0mbatch\u001b[0m\u001b[0;34m]\u001b[0m\u001b[0;34m\u001b[0m\u001b[0;34m\u001b[0m\u001b[0m\n\u001b[0m\u001b[1;32m     34\u001b[0m \u001b[0;34m\u001b[0m\u001b[0m\n\u001b[1;32m     35\u001b[0m         \u001b[0;32mreturn\u001b[0m \u001b[0mbatch\u001b[0m\u001b[0;34m\u001b[0m\u001b[0;34m\u001b[0m\u001b[0m\n",
      "\u001b[0;32m<ipython-input-9-9ecb8e281c5d>\u001b[0m in \u001b[0;36m<listcomp>\u001b[0;34m(.0)\u001b[0m\n\u001b[1;32m     31\u001b[0m             \u001b[0mstart_position\u001b[0m \u001b[0;34m=\u001b[0m \u001b[0mstart_position\u001b[0m \u001b[0;34m+\u001b[0m \u001b[0mlen\u001b[0m\u001b[0;34m(\u001b[0m\u001b[0mitem\u001b[0m\u001b[0;34m)\u001b[0m\u001b[0;34m\u001b[0m\u001b[0;34m\u001b[0m\u001b[0m\n\u001b[1;32m     32\u001b[0m \u001b[0;34m\u001b[0m\u001b[0m\n\u001b[0;32m---> 33\u001b[0;31m         \u001b[0mbatch\u001b[0m \u001b[0;34m=\u001b[0m \u001b[0;34m[\u001b[0m\u001b[0mtorch\u001b[0m\u001b[0;34m.\u001b[0m\u001b[0mLongTensor\u001b[0m\u001b[0;34m(\u001b[0m\u001b[0;34m[\u001b[0m\u001b[0mitem\u001b[0m\u001b[0;34m]\u001b[0m\u001b[0;34m)\u001b[0m \u001b[0;32mfor\u001b[0m \u001b[0mitem\u001b[0m \u001b[0;32min\u001b[0m \u001b[0mbatch\u001b[0m\u001b[0;34m]\u001b[0m\u001b[0;34m\u001b[0m\u001b[0;34m\u001b[0m\u001b[0m\n\u001b[0m\u001b[1;32m     34\u001b[0m \u001b[0;34m\u001b[0m\u001b[0m\n\u001b[1;32m     35\u001b[0m         \u001b[0;32mreturn\u001b[0m \u001b[0mbatch\u001b[0m\u001b[0;34m\u001b[0m\u001b[0;34m\u001b[0m\u001b[0m\n",
      "\u001b[0;31mKeyboardInterrupt\u001b[0m: "
     ]
    }
   ],
   "source": [
    "lengths = []\n",
    "for batch in tqdm.tqdm(train_dataloader):\n",
    "    max_len = sum([item.shape[1] for item in batch])\n",
    "\n",
    "    if max_len == 15:\n",
    "        break\n",
    "    lengths.append(max_len)"
   ]
  },
  {
   "cell_type": "code",
   "execution_count": 36,
   "metadata": {},
   "outputs": [
    {
     "data": {
      "text/plain": [
       "'user:Pretty soon, but no earlier than Thursday September 8\\n\\n\\n'"
      ]
     },
     "execution_count": 36,
     "metadata": {},
     "output_type": "execute_result"
    }
   ],
   "source": [
    "tokenizer.decode(batch[6][0].tolist())"
   ]
  },
  {
   "cell_type": "code",
   "execution_count": null,
   "metadata": {},
   "outputs": [],
   "source": []
  }
 ],
 "metadata": {
  "kernelspec": {
   "display_name": "Python 3",
   "language": "python",
   "name": "python3"
  },
  "language_info": {
   "codemirror_mode": {
    "name": "ipython",
    "version": 3
   },
   "file_extension": ".py",
   "mimetype": "text/x-python",
   "name": "python",
   "nbconvert_exporter": "python",
   "pygments_lexer": "ipython3",
   "version": "3.7.3"
  }
 },
 "nbformat": 4,
 "nbformat_minor": 2
}
